{
  "cells": [
    {
      "cell_type": "code",
      "execution_count": 54,
      "metadata": {
        "id": "fS4VLPmVqAFW"
      },
      "outputs": [],
      "source": [
        "import numpy as np\n",
        "import pandas as pd\n",
        "from collections import Counter\n",
        "from sklearn.dummy import DummyClassifier\n",
        "from sklearn.feature_extraction.text import CountVectorizer, TfidfVectorizer\n",
        "from sklearn.metrics import classification_report, confusion_matrix\n",
        "from sklearn.model_selection import train_test_split\n",
        "from sklearn.preprocessing import LabelEncoder\n",
        "from sklearn.svm import SVC\n",
        "from sklearn.tree import DecisionTreeClassifier"
      ]
    },
    {
      "cell_type": "code",
      "execution_count": 55,
      "metadata": {
        "id": "x6wEA4CbLJqK"
      },
      "outputs": [],
      "source": [
        "## Read csv file\n",
        "df = pd.read_csv('train_all_tasks.csv')"
      ]
    },
    {
      "cell_type": "code",
      "execution_count": 56,
      "metadata": {
        "id": "NcxJg7MiK2CC"
      },
      "outputs": [],
      "source": [
        "## Data pre-processing"
      ]
    },
    {
      "cell_type": "code",
      "execution_count": 73,
      "metadata": {
        "id": "eOHBK8Eak6Ck"
      },
      "outputs": [],
      "source": [
        "# text and labels for task A\n",
        "X_train_a, X_test_a, y_train_a, y_test_a = train_test_split(df['text'], df['label_sexist'], test_size=0.3, random_state=0)\n",
        "X_test_a, X_dev_a, y_test_a, y_dev_a = train_test_split(X_test_a, y_test_a, test_size=0.33)\n",
        "\n",
        "# text and labels for task B\n",
        "X_train_b, X_test_b, y_train_b, y_test_b = train_test_split(df['text'], df['label_category'], test_size=0.3, random_state=0)\n",
        "X_test_b, X_dev_b, y_test_b, y_dev_b = train_test_split(X_test_b, y_test_b, test_size=0.33)"
      ]
    },
    {
      "cell_type": "code",
      "source": [
        "print(Counter(y_train_a))\n",
        "print(Counter(y_dev_a))\n",
        "print(Counter(y_test_a))\n",
        "\n",
        "print(Counter(y_train_b))\n",
        "print(Counter(y_dev_b))\n",
        "print(Counter(y_test_b))"
      ],
      "metadata": {
        "colab": {
          "base_uri": "https://localhost:8080/"
        },
        "id": "k7xGhtgDF0LU",
        "outputId": "53cd4912-82eb-4229-82cf-dcb64a6d8991"
      },
      "execution_count": 78,
      "outputs": [
        {
          "output_type": "stream",
          "name": "stdout",
          "text": [
            "Counter({'not sexist': 7413, 'sexist': 2387})\n",
            "Counter({'not sexist': 1051, 'sexist': 335})\n",
            "Counter({'not sexist': 2138, 'sexist': 676})\n",
            "Counter({4: 7413, 1: 1119, 2: 808, 3: 236, 0: 224})\n",
            "Counter({'none': 1039, '2. derogation': 165, '3. animosity': 126, '4. prejudiced discussions': 34, '1. threats, plans to harm and incitement': 22})\n",
            "Counter({'none': 2150, '2. derogation': 306, '3. animosity': 231, '1. threats, plans to harm and incitement': 64, '4. prejudiced discussions': 63})\n"
          ]
        }
      ]
    },
    {
      "cell_type": "code",
      "execution_count": 59,
      "metadata": {
        "id": "m8XSzVAIUqWu"
      },
      "outputs": [],
      "source": [
        "def report(model_name, ydev, pred, zero_division=1):\n",
        "    print(\"\\n=== {0} ===\\n\\nClassification Report:\\n{1}\"\n",
        "          \"\\nConfusion Matrix:\\n{2}\".format(model_name,\n",
        "                                            classification_report(ydev, pred, \n",
        "                                                                  zero_division=zero_division),\n",
        "                                            confusion_matrix(ydev, pred)))"
      ]
    },
    {
      "cell_type": "code",
      "execution_count": 60,
      "metadata": {
        "id": "AV63GRplhAY0"
      },
      "outputs": [],
      "source": [
        "def svm_train(xtrain, ytrain, xdev, ydev, le):\n",
        "  model_name = \"SVM\"\n",
        "  model = SVC(kernel='linear')\n",
        "  vec = CountVectorizer()\n",
        "\n",
        "  vec.fit(xtrain, xdev)\n",
        "  xtrain_enc = vec.transform(xtrain)\n",
        "  xdev_enc = vec.transform(xdev)\n",
        "\n",
        "  model.fit(xtrain_enc, ytrain)\n",
        "  pred = model.predict(xdev_enc)\n",
        "  pred = le.inverse_transform(pred)\n",
        "\n",
        "  report(model_name, ydev, pred)"
      ]
    },
    {
      "cell_type": "code",
      "execution_count": 61,
      "metadata": {
        "id": "vMljR43nUqWv"
      },
      "outputs": [],
      "source": [
        "def majority_class(xtrain, ytrain, xdev, ydev, le):\n",
        "  model_name = \"majority class\"\n",
        "  model = DummyClassifier()\n",
        "  vec = CountVectorizer()\n",
        "\n",
        "  vec.fit(xtrain, xdev)\n",
        "  xtrain_enc = vec.transform(xtrain)\n",
        "  xdev_enc = vec.transform(xdev)\n",
        "\n",
        "  model.fit(xtrain_enc, ytrain)\n",
        "  pred = model.predict(xdev_enc)\n",
        "  pred = le.inverse_transform(pred)\n",
        "\n",
        "  report(model_name, ydev, pred, zero_division=0)"
      ]
    },
    {
      "cell_type": "code",
      "execution_count": 62,
      "metadata": {
        "id": "xQCRDXh6UqWv"
      },
      "outputs": [],
      "source": [
        "def decision_tree_train(xtrain, ytrain, xdev, ydev, le):\n",
        "  model_name = \"decision tree\"\n",
        "  model = DecisionTreeClassifier()\n",
        "  vec = CountVectorizer()\n",
        "\n",
        "  vec.fit(xtrain, xdev)\n",
        "  xtrain_enc = vec.transform(xtrain)\n",
        "  xdev_enc = vec.transform(xdev)\n",
        "\n",
        "  model.fit(xtrain_enc, ytrain)\n",
        "  pred = model.predict(xdev_enc)\n",
        "  pred = le.inverse_transform(pred)\n",
        "\n",
        "  report(model_name, ydev, pred)"
      ]
    },
    {
      "cell_type": "code",
      "execution_count": 63,
      "metadata": {
        "id": "wi1IsbCCc_Dt"
      },
      "outputs": [],
      "source": [
        "## Running Task A (Binary) "
      ]
    },
    {
      "cell_type": "code",
      "execution_count": 64,
      "metadata": {
        "id": "LrIGCBzjiYdG"
      },
      "outputs": [],
      "source": [
        "le = LabelEncoder()\n",
        "\n",
        "le.fit(y_train_a)\n",
        "y_train_a = le.transform(y_train_a)"
      ]
    },
    {
      "cell_type": "code",
      "execution_count": 65,
      "metadata": {
        "colab": {
          "base_uri": "https://localhost:8080/"
        },
        "id": "5PL8wU5gUqWw",
        "outputId": "06243baa-a12a-4caa-c9eb-0cd40c05f963"
      },
      "outputs": [
        {
          "output_type": "stream",
          "name": "stdout",
          "text": [
            "\n",
            "=== majority class ===\n",
            "\n",
            "Classification Report:\n",
            "              precision    recall  f1-score   support\n",
            "\n",
            "  not sexist       0.76      1.00      0.86      2131\n",
            "      sexist       0.00      0.00      0.00       683\n",
            "\n",
            "    accuracy                           0.76      2814\n",
            "   macro avg       0.38      0.50      0.43      2814\n",
            "weighted avg       0.57      0.76      0.65      2814\n",
            "\n",
            "Confusion Matrix:\n",
            "[[2131    0]\n",
            " [ 683    0]]\n"
          ]
        }
      ],
      "source": [
        "majority_class(X_train_a, y_train_a, X_test_a, y_test_a, le)"
      ]
    },
    {
      "cell_type": "code",
      "execution_count": 66,
      "metadata": {
        "colab": {
          "base_uri": "https://localhost:8080/"
        },
        "id": "fxXmSsyUs80u",
        "outputId": "729d6f9b-bc13-452e-bc43-3c523fb8f78e"
      },
      "outputs": [
        {
          "output_type": "stream",
          "name": "stdout",
          "text": [
            "\n",
            "=== SVM ===\n",
            "\n",
            "Classification Report:\n",
            "              precision    recall  f1-score   support\n",
            "\n",
            "  not sexist       0.86      0.89      0.88      2131\n",
            "      sexist       0.63      0.56      0.59       683\n",
            "\n",
            "    accuracy                           0.81      2814\n",
            "   macro avg       0.75      0.73      0.74      2814\n",
            "weighted avg       0.81      0.81      0.81      2814\n",
            "\n",
            "Confusion Matrix:\n",
            "[[1903  228]\n",
            " [ 300  383]]\n"
          ]
        }
      ],
      "source": [
        "svm_train(X_train_a, y_train_a, X_test_a, y_test_a, le)"
      ]
    },
    {
      "cell_type": "code",
      "execution_count": 67,
      "metadata": {
        "id": "fCRqnOm9UqWx",
        "outputId": "01525cf2-fb52-41a8-a8ca-cf749aff15b9",
        "colab": {
          "base_uri": "https://localhost:8080/"
        }
      },
      "outputs": [
        {
          "output_type": "stream",
          "name": "stdout",
          "text": [
            "\n",
            "=== decision tree ===\n",
            "\n",
            "Classification Report:\n",
            "              precision    recall  f1-score   support\n",
            "\n",
            "  not sexist       0.85      0.88      0.87      2131\n",
            "      sexist       0.58      0.53      0.56       683\n",
            "\n",
            "    accuracy                           0.79      2814\n",
            "   macro avg       0.72      0.71      0.71      2814\n",
            "weighted avg       0.79      0.79      0.79      2814\n",
            "\n",
            "Confusion Matrix:\n",
            "[[1867  264]\n",
            " [ 318  365]]\n"
          ]
        }
      ],
      "source": [
        "decision_tree_train(X_train_a, y_train_a, X_test_a, y_test_a, le)"
      ]
    },
    {
      "cell_type": "code",
      "execution_count": 68,
      "metadata": {
        "id": "I5jrr_35dAKE"
      },
      "outputs": [],
      "source": [
        "## Running Task B (Multi-class) "
      ]
    },
    {
      "cell_type": "code",
      "execution_count": 74,
      "metadata": {
        "id": "NGkqZZfF9x8U"
      },
      "outputs": [],
      "source": [
        "le = LabelEncoder()\n",
        "\n",
        "le.fit(y_train_b)\n",
        "y_train_b = le.transform(y_train_b)"
      ]
    },
    {
      "cell_type": "code",
      "execution_count": 75,
      "metadata": {
        "id": "Whml8h4MUqWy",
        "outputId": "208a1482-45a9-48d9-de88-f7d431dc09a8",
        "colab": {
          "base_uri": "https://localhost:8080/"
        }
      },
      "outputs": [
        {
          "output_type": "stream",
          "name": "stdout",
          "text": [
            "\n",
            "=== majority class ===\n",
            "\n",
            "Classification Report:\n",
            "                                          precision    recall  f1-score   support\n",
            "\n",
            "1. threats, plans to harm and incitement       0.00      0.00      0.00        64\n",
            "                           2. derogation       0.00      0.00      0.00       306\n",
            "                            3. animosity       0.00      0.00      0.00       231\n",
            "               4. prejudiced discussions       0.00      0.00      0.00        63\n",
            "                                    none       0.76      1.00      0.87      2150\n",
            "\n",
            "                                accuracy                           0.76      2814\n",
            "                               macro avg       0.15      0.20      0.17      2814\n",
            "                            weighted avg       0.58      0.76      0.66      2814\n",
            "\n",
            "Confusion Matrix:\n",
            "[[   0    0    0    0   64]\n",
            " [   0    0    0    0  306]\n",
            " [   0    0    0    0  231]\n",
            " [   0    0    0    0   63]\n",
            " [   0    0    0    0 2150]]\n"
          ]
        }
      ],
      "source": [
        "majority_class(X_train_b, y_train_b, X_test_b, y_test_b, le)"
      ]
    },
    {
      "cell_type": "code",
      "execution_count": 76,
      "metadata": {
        "colab": {
          "base_uri": "https://localhost:8080/"
        },
        "id": "-8faSPLLj0Tl",
        "outputId": "5120e065-9b13-44c4-872a-8e8e7e56fc2b"
      },
      "outputs": [
        {
          "output_type": "stream",
          "name": "stdout",
          "text": [
            "\n",
            "=== SVM ===\n",
            "\n",
            "Classification Report:\n",
            "                                          precision    recall  f1-score   support\n",
            "\n",
            "1. threats, plans to harm and incitement       0.18      0.16      0.17        64\n",
            "                           2. derogation       0.35      0.37      0.36       306\n",
            "                            3. animosity       0.36      0.27      0.31       231\n",
            "               4. prejudiced discussions       0.20      0.14      0.17        63\n",
            "                                    none       0.86      0.89      0.88      2150\n",
            "\n",
            "                                accuracy                           0.75      2814\n",
            "                               macro avg       0.39      0.37      0.38      2814\n",
            "                            weighted avg       0.74      0.75      0.74      2814\n",
            "\n",
            "Confusion Matrix:\n",
            "[[  10    7    4    2   41]\n",
            " [   8  112   42    7  137]\n",
            " [   9   66   62    6   88]\n",
            " [   1    9    5    9   39]\n",
            " [  27  123   61   22 1917]]\n"
          ]
        }
      ],
      "source": [
        "svm_train(X_train_b, y_train_b, X_test_b, y_test_b, le)"
      ]
    },
    {
      "cell_type": "code",
      "execution_count": 77,
      "metadata": {
        "id": "a0gBxAKwUqWz",
        "outputId": "6bc0aaf4-2993-4b3a-dc00-da42ddd5f63a",
        "colab": {
          "base_uri": "https://localhost:8080/"
        }
      },
      "outputs": [
        {
          "output_type": "stream",
          "name": "stdout",
          "text": [
            "\n",
            "=== decision tree ===\n",
            "\n",
            "Classification Report:\n",
            "                                          precision    recall  f1-score   support\n",
            "\n",
            "1. threats, plans to harm and incitement       0.09      0.06      0.07        64\n",
            "                           2. derogation       0.34      0.29      0.31       306\n",
            "                            3. animosity       0.39      0.30      0.34       231\n",
            "               4. prejudiced discussions       0.14      0.11      0.12        63\n",
            "                                    none       0.85      0.90      0.87      2150\n",
            "\n",
            "                                accuracy                           0.75      2814\n",
            "                               macro avg       0.36      0.33      0.35      2814\n",
            "                            weighted avg       0.72      0.75      0.73      2814\n",
            "\n",
            "Confusion Matrix:\n",
            "[[   4    7    6    1   46]\n",
            " [   5   89   51    5  156]\n",
            " [   7   44   70    7  103]\n",
            " [   3    9    6    7   38]\n",
            " [  27  111   47   29 1936]]\n"
          ]
        }
      ],
      "source": [
        "decision_tree_train(X_train_b, y_train_b, X_test_b, y_test_b, le)"
      ]
    }
  ],
  "metadata": {
    "colab": {
      "collapsed_sections": [],
      "provenance": []
    },
    "kernelspec": {
      "display_name": "Python 3.10.4 ('lfd')",
      "language": "python",
      "name": "python3"
    },
    "language_info": {
      "codemirror_mode": {
        "name": "ipython",
        "version": 3
      },
      "file_extension": ".py",
      "mimetype": "text/x-python",
      "name": "python",
      "nbconvert_exporter": "python",
      "pygments_lexer": "ipython3",
      "version": "3.10.4"
    },
    "vscode": {
      "interpreter": {
        "hash": "86d0237a3a54a747ea5eeadf5a7aab3e7ee246c76033eca4ace7d99a07ef554b"
      }
    }
  },
  "nbformat": 4,
  "nbformat_minor": 0
}