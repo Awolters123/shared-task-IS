{
  "cells": [
    {
      "cell_type": "code",
      "execution_count": 1,
      "metadata": {
        "id": "fS4VLPmVqAFW"
      },
      "outputs": [],
      "source": [
        "import numpy as np\n",
        "import pandas as pd\n",
        "from collections import Counter\n",
        "from sklearn.feature_extraction.text import CountVectorizer, TfidfVectorizer\n",
        "from sklearn.metrics import classification_report, confusion_matrix\n",
        "from sklearn.model_selection import train_test_split\n",
        "from sklearn.preprocessing import LabelEncoder\n",
        "from sklearn.svm import SVC"
      ]
    },
    {
      "cell_type": "code",
      "execution_count": 2,
      "metadata": {
        "id": "x6wEA4CbLJqK"
      },
      "outputs": [],
      "source": [
        "## Read csv file\n",
        "df = pd.read_csv('train_all_tasks.csv')"
      ]
    },
    {
      "cell_type": "code",
      "execution_count": 3,
      "metadata": {
        "id": "NcxJg7MiK2CC"
      },
      "outputs": [],
      "source": [
        "## Data pre-processing"
      ]
    },
    {
      "cell_type": "code",
      "execution_count": 4,
      "metadata": {
        "id": "eOHBK8Eak6Ck"
      },
      "outputs": [],
      "source": [
        "# text and labels for task A\n",
        "xtrain_taskA, xdev_taskA, ytrain_taskA, ydev_taskA = train_test_split(df['text'], df['label_sexist'], test_size=0.2, random_state=10)\n",
        "\n",
        "# text and labels for task B\n",
        "xtrain_taskB, xdev_taskB, ytrain_taskB, ydev_taskB = train_test_split(df['text'], df['label_category'], test_size=0.2, random_state=10)"
      ]
    },
    {
      "cell_type": "code",
      "execution_count": 5,
      "metadata": {
        "colab": {
          "base_uri": "https://localhost:8080/"
        },
        "id": "M-kdz_GIlOI1",
        "outputId": "e0b0cabb-06ac-44b5-c420-555c56b38167"
      },
      "outputs": [
        {
          "name": "stdout",
          "output_type": "stream",
          "text": [
            "Counter({'not sexist': 8496, 'sexist': 2704})\n",
            "Counter({'not sexist': 2106, 'sexist': 694})\n",
            "Counter({'none': 8496, '2. derogation': 1279, '3. animosity': 912, '4. prejudiced discussions': 258, '1. threats, plans to harm and incitement': 255})\n",
            "Counter({'none': 2106, '2. derogation': 311, '3. animosity': 253, '4. prejudiced discussions': 75, '1. threats, plans to harm and incitement': 55})\n"
          ]
        }
      ],
      "source": [
        "print(Counter(ytrain_taskA))\n",
        "print(Counter(ydev_taskA))\n",
        "\n",
        "print(Counter(ytrain_taskB))\n",
        "print(Counter(ydev_taskB))"
      ]
    },
    {
      "cell_type": "code",
      "execution_count": 6,
      "metadata": {
        "id": "AV63GRplhAY0"
      },
      "outputs": [],
      "source": [
        "def svm_train(xtrain, ytrain, xdev, ydev, le):\n",
        "  model = SVC(kernel='linear')\n",
        "  vec = CountVectorizer()\n",
        "\n",
        "  vec.fit(xtrain, xdev)\n",
        "  xtrain_enc = vec.transform(xtrain)\n",
        "  xdev_enc = vec.transform(xdev)\n",
        "\n",
        "  model.fit(xtrain_enc, ytrain)\n",
        "  pred = model.predict(xdev_enc)\n",
        "  pred = le.inverse_transform(pred)\n",
        "\n",
        "  print(\"Classification Report:\\n{0}\\nConfusion Matrix:\\n{1}\".format(classification_report(ydev, pred), confusion_matrix(ydev, pred)))"
      ]
    },
    {
      "cell_type": "code",
      "execution_count": 7,
      "metadata": {
        "id": "wi1IsbCCc_Dt"
      },
      "outputs": [],
      "source": [
        "## Running Task A (Binary) "
      ]
    },
    {
      "cell_type": "code",
      "execution_count": 8,
      "metadata": {
        "id": "LrIGCBzjiYdG"
      },
      "outputs": [],
      "source": [
        "le = LabelEncoder()\n",
        "\n",
        "le.fit(ytrain_taskA)\n",
        "ytrain_taskA = le.transform(ytrain_taskA)"
      ]
    },
    {
      "cell_type": "code",
      "execution_count": 9,
      "metadata": {
        "colab": {
          "base_uri": "https://localhost:8080/"
        },
        "id": "fxXmSsyUs80u",
        "outputId": "f663a422-1a2b-46f8-aa0a-8c05f20aebac"
      },
      "outputs": [
        {
          "name": "stdout",
          "output_type": "stream",
          "text": [
            "Classification Report:\n",
            "              precision    recall  f1-score   support\n",
            "\n",
            "  not sexist       0.85      0.88      0.87      2106\n",
            "      sexist       0.60      0.53      0.56       694\n",
            "\n",
            "    accuracy                           0.80      2800\n",
            "   macro avg       0.72      0.71      0.71      2800\n",
            "weighted avg       0.79      0.80      0.79      2800\n",
            "\n",
            "Confusion Matrix:\n",
            "[[1857  249]\n",
            " [ 324  370]]\n"
          ]
        }
      ],
      "source": [
        "svm_train(xtrain_taskA, ytrain_taskA, xdev_taskA, ydev_taskA, le)"
      ]
    },
    {
      "cell_type": "code",
      "execution_count": 10,
      "metadata": {
        "id": "I5jrr_35dAKE"
      },
      "outputs": [],
      "source": [
        "## Running Task B (Multi-class) "
      ]
    },
    {
      "cell_type": "code",
      "execution_count": 11,
      "metadata": {
        "id": "NGkqZZfF9x8U"
      },
      "outputs": [],
      "source": [
        "le.fit(ytrain_taskB)\n",
        "ytrain_taskB = le.transform(ytrain_taskB)"
      ]
    },
    {
      "cell_type": "code",
      "execution_count": 12,
      "metadata": {
        "colab": {
          "base_uri": "https://localhost:8080/"
        },
        "id": "-8faSPLLj0Tl",
        "outputId": "81f3479a-e0a0-4310-ffdc-5abb88f6d34f"
      },
      "outputs": [
        {
          "name": "stdout",
          "output_type": "stream",
          "text": [
            "Classification Report:\n",
            "                                          precision    recall  f1-score   support\n",
            "\n",
            "1. threats, plans to harm and incitement       0.20      0.22      0.21        55\n",
            "                           2. derogation       0.33      0.38      0.35       311\n",
            "                            3. animosity       0.38      0.25      0.30       253\n",
            "               4. prejudiced discussions       0.20      0.11      0.14        75\n",
            "                                    none       0.86      0.89      0.87      2106\n",
            "\n",
            "                                accuracy                           0.74      2800\n",
            "                               macro avg       0.39      0.37      0.38      2800\n",
            "                            weighted avg       0.73      0.74      0.73      2800\n",
            "\n",
            "Confusion Matrix:\n",
            "[[  12    6    4    1   32]\n",
            " [  10  117   37   11  136]\n",
            " [   7   80   64    4   98]\n",
            " [   2   16    6    8   43]\n",
            " [  30  132   56   17 1871]]\n"
          ]
        }
      ],
      "source": [
        "svm_train(xtrain_taskB, ytrain_taskB, xdev_taskB, ydev_taskB, le)"
      ]
    }
  ],
  "metadata": {
    "colab": {
      "collapsed_sections": [],
      "provenance": []
    },
    "kernelspec": {
      "display_name": "Python 3.10.4 ('lfd')",
      "language": "python",
      "name": "python3"
    },
    "language_info": {
      "codemirror_mode": {
        "name": "ipython",
        "version": 3
      },
      "file_extension": ".py",
      "mimetype": "text/x-python",
      "name": "python",
      "nbconvert_exporter": "python",
      "pygments_lexer": "ipython3",
      "version": "3.10.4"
    },
    "vscode": {
      "interpreter": {
        "hash": "86d0237a3a54a747ea5eeadf5a7aab3e7ee246c76033eca4ace7d99a07ef554b"
      }
    }
  },
  "nbformat": 4,
  "nbformat_minor": 0
}
