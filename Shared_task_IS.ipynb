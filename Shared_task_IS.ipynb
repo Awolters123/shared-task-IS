{
  "nbformat": 4,
  "nbformat_minor": 0,
  "metadata": {
    "colab": {
      "provenance": [],
      "collapsed_sections": []
    },
    "kernelspec": {
      "name": "python3",
      "display_name": "Python 3"
    },
    "language_info": {
      "name": "python"
    }
  },
  "cells": [
    {
      "cell_type": "code",
      "source": [
        "import numpy as np\n",
        "import pandas as pd\n",
        "from collections import Counter\n",
        "from sklearn.dummy import DummyClassifier\n",
        "from sklearn.feature_extraction.text import CountVectorizer, TfidfVectorizer\n",
        "from sklearn.metrics import classification_report, confusion_matrix\n",
        "from sklearn.model_selection import train_test_split\n",
        "from sklearn.preprocessing import LabelEncoder\n",
        "from sklearn.svm import SVC\n",
        "from sklearn.tree import DecisionTreeClassifier\n",
        "from sklearn.naive_bayes import MultinomialNB"
      ],
      "metadata": {
        "id": "A8PSLyzGAQff"
      },
      "execution_count": 78,
      "outputs": []
    },
    {
      "cell_type": "code",
      "source": [
        "## Read csv file\n",
        "df = pd.read_csv('train_all_tasks.csv')"
      ],
      "metadata": {
        "id": "PNSx1iizATDn"
      },
      "execution_count": 79,
      "outputs": []
    },
    {
      "cell_type": "code",
      "source": [
        "## Data pre-processing"
      ],
      "metadata": {
        "id": "jOFfAC3VAU4-"
      },
      "execution_count": 80,
      "outputs": []
    },
    {
      "cell_type": "code",
      "source": [
        "# text and labels for task A\n",
        "X_train_a, X_test_a, y_train_a, y_test_a = train_test_split(df['text'], df['label_sexist'], test_size=0.3, random_state=0)\n",
        "X_test_a, X_dev_a, y_test_a, y_dev_a = train_test_split(X_test_a, y_test_a, test_size=0.33)\n",
        "\n",
        "# text and labels for task B\n",
        "X_train_b, X_test_b, y_train_b, y_test_b = train_test_split(df['text'], df['label_category'], test_size=0.3, random_state=0)\n",
        "X_test_b, X_dev_b, y_test_b, y_dev_b = train_test_split(X_test_b, y_test_b, test_size=0.33)"
      ],
      "metadata": {
        "id": "87SsCCWkAYKv"
      },
      "execution_count": 81,
      "outputs": []
    },
    {
      "cell_type": "code",
      "source": [
        "print(Counter(y_train_a))\n",
        "print(Counter(y_dev_a))\n",
        "print(Counter(y_test_a))\n",
        "\n",
        "print(Counter(y_train_b))\n",
        "print(Counter(y_dev_b))\n",
        "print(Counter(y_test_b))"
      ],
      "metadata": {
        "colab": {
          "base_uri": "https://localhost:8080/"
        },
        "id": "bZPIX7aSArvD",
        "outputId": "e9237d76-3901-42c2-c5c5-f601fdc1ba16"
      },
      "execution_count": 82,
      "outputs": [
        {
          "output_type": "stream",
          "name": "stdout",
          "text": [
            "Counter({'not sexist': 7413, 'sexist': 2387})\n",
            "Counter({'not sexist': 1053, 'sexist': 333})\n",
            "Counter({'not sexist': 2136, 'sexist': 678})\n",
            "Counter({'none': 7413, '2. derogation': 1119, '3. animosity': 808, '4. prejudiced discussions': 236, '1. threats, plans to harm and incitement': 224})\n",
            "Counter({'none': 1048, '2. derogation': 155, '3. animosity': 119, '1. threats, plans to harm and incitement': 33, '4. prejudiced discussions': 31})\n",
            "Counter({'none': 2141, '2. derogation': 316, '3. animosity': 238, '4. prejudiced discussions': 66, '1. threats, plans to harm and incitement': 53})\n"
          ]
        }
      ]
    },
    {
      "cell_type": "code",
      "source": [
        "def report(model_name, ydev, pred, zero_division=1):\n",
        "    print(\"\\n=== {0} ===\\n\\nClassification Report:\\n{1}\"\n",
        "          \"\\nConfusion Matrix:\\n{2}\".format(model_name,\n",
        "                                            classification_report(ydev, pred, \n",
        "                                                                  zero_division=zero_division),\n",
        "                                            confusion_matrix(ydev, pred)))"
      ],
      "metadata": {
        "id": "plJWYLU5AuIU"
      },
      "execution_count": 83,
      "outputs": []
    },
    {
      "cell_type": "code",
      "source": [
        "def naive_bayes(xtrain, ytrain, xdev, ydev, le):\n",
        "  model_name = \"naive bayes\"\n",
        "  model = MultinomialNB()\n",
        "  vec = CountVectorizer()\n",
        "\n",
        "  vec.fit(xtrain, xdev)\n",
        "  xtrain_enc = vec.transform(xtrain)\n",
        "  xdev_enc = vec.transform(xdev)\n",
        "\n",
        "  model.fit(xtrain_enc, ytrain)\n",
        "  pred = model.predict(xdev_enc)\n",
        "  pred = le.inverse_transform(pred)\n",
        "\n",
        "  report(model_name, ydev, pred)"
      ],
      "metadata": {
        "id": "BdZ4SPeNEqyH"
      },
      "execution_count": 85,
      "outputs": []
    },
    {
      "cell_type": "code",
      "source": [
        "def svm_train(xtrain, ytrain, xdev, ydev, le):\n",
        "  model_name = \"SVM\"\n",
        "  model = SVC(kernel='linear')\n",
        "  vec = CountVectorizer()\n",
        "\n",
        "  vec.fit(xtrain, xdev)\n",
        "  xtrain_enc = vec.transform(xtrain)\n",
        "  xdev_enc = vec.transform(xdev)\n",
        "\n",
        "  model.fit(xtrain_enc, ytrain)\n",
        "  pred = model.predict(xdev_enc)\n",
        "  pred = le.inverse_transform(pred)\n",
        "\n",
        "  report(model_name, ydev, pred)"
      ],
      "metadata": {
        "id": "kSagD-jyA8cr"
      },
      "execution_count": 84,
      "outputs": []
    },
    {
      "cell_type": "code",
      "source": [
        "def majority_class(xtrain, ytrain, xdev, ydev, le):\n",
        "  model_name = \"majority class\"\n",
        "  model = DummyClassifier()\n",
        "  vec = CountVectorizer()\n",
        "\n",
        "  vec.fit(xtrain, xdev)\n",
        "  xtrain_enc = vec.transform(xtrain)\n",
        "  xdev_enc = vec.transform(xdev)\n",
        "\n",
        "  model.fit(xtrain_enc, ytrain)\n",
        "  pred = model.predict(xdev_enc)\n",
        "  pred = le.inverse_transform(pred)\n",
        "\n",
        "  report(model_name, ydev, pred, zero_division=0)"
      ],
      "metadata": {
        "id": "PBRbfuyBBBzP"
      },
      "execution_count": 86,
      "outputs": []
    },
    {
      "cell_type": "code",
      "source": [
        "def decision_tree_train(xtrain, ytrain, xdev, ydev, le):\n",
        "  model_name = \"decision tree\"\n",
        "  model = DecisionTreeClassifier()\n",
        "  vec = CountVectorizer()\n",
        "\n",
        "  vec.fit(xtrain, xdev)\n",
        "  xtrain_enc = vec.transform(xtrain)\n",
        "  xdev_enc = vec.transform(xdev)\n",
        "\n",
        "  model.fit(xtrain_enc, ytrain)\n",
        "  pred = model.predict(xdev_enc)\n",
        "  pred = le.inverse_transform(pred)\n",
        "\n",
        "  report(model_name, ydev, pred)"
      ],
      "metadata": {
        "id": "pmvHAkz5BEII"
      },
      "execution_count": 87,
      "outputs": []
    },
    {
      "cell_type": "code",
      "source": [
        "## Running Task A (Binary) "
      ],
      "metadata": {
        "id": "jQBU4QCUBG1M"
      },
      "execution_count": 88,
      "outputs": []
    },
    {
      "cell_type": "code",
      "source": [
        "le = LabelEncoder()\n",
        "\n",
        "le.fit(y_train_a)\n",
        "y_train_a = le.transform(y_train_a)"
      ],
      "metadata": {
        "id": "Qo85JFqyBI7f"
      },
      "execution_count": 89,
      "outputs": []
    },
    {
      "cell_type": "code",
      "source": [
        "naive_bayes(X_train_a, y_train_a, X_test_a, y_test_a, le)"
      ],
      "metadata": {
        "colab": {
          "base_uri": "https://localhost:8080/"
        },
        "id": "D8NSelhMGsLa",
        "outputId": "5dac5d9b-98da-4ac5-bd19-db8b52e091a8"
      },
      "execution_count": 90,
      "outputs": [
        {
          "output_type": "stream",
          "name": "stdout",
          "text": [
            "\n",
            "=== naive bayes ===\n",
            "\n",
            "Classification Report:\n",
            "              precision    recall  f1-score   support\n",
            "\n",
            "  not sexist       0.82      0.95      0.88      2136\n",
            "      sexist       0.71      0.35      0.47       678\n",
            "\n",
            "    accuracy                           0.81      2814\n",
            "   macro avg       0.76      0.65      0.67      2814\n",
            "weighted avg       0.79      0.81      0.78      2814\n",
            "\n",
            "Confusion Matrix:\n",
            "[[2039   97]\n",
            " [ 443  235]]\n"
          ]
        }
      ]
    },
    {
      "cell_type": "code",
      "source": [
        "majority_class(X_train_a, y_train_a, X_test_a, y_test_a, le)"
      ],
      "metadata": {
        "colab": {
          "base_uri": "https://localhost:8080/"
        },
        "id": "xOUTR-IkBLxB",
        "outputId": "5644ff43-2160-4e7c-a6ae-3acc367c9d6f"
      },
      "execution_count": 91,
      "outputs": [
        {
          "output_type": "stream",
          "name": "stdout",
          "text": [
            "\n",
            "=== majority class ===\n",
            "\n",
            "Classification Report:\n",
            "              precision    recall  f1-score   support\n",
            "\n",
            "  not sexist       0.76      1.00      0.86      2136\n",
            "      sexist       0.00      0.00      0.00       678\n",
            "\n",
            "    accuracy                           0.76      2814\n",
            "   macro avg       0.38      0.50      0.43      2814\n",
            "weighted avg       0.58      0.76      0.66      2814\n",
            "\n",
            "Confusion Matrix:\n",
            "[[2136    0]\n",
            " [ 678    0]]\n"
          ]
        }
      ]
    },
    {
      "cell_type": "code",
      "source": [
        "svm_train(X_train_a, y_train_a, X_test_a, y_test_a, le)"
      ],
      "metadata": {
        "colab": {
          "base_uri": "https://localhost:8080/"
        },
        "id": "jmYe0hX2BOHG",
        "outputId": "43bcef1c-3f27-4d62-86fb-0aa1683be876"
      },
      "execution_count": 92,
      "outputs": [
        {
          "output_type": "stream",
          "name": "stdout",
          "text": [
            "\n",
            "=== SVM ===\n",
            "\n",
            "Classification Report:\n",
            "              precision    recall  f1-score   support\n",
            "\n",
            "  not sexist       0.86      0.89      0.88      2136\n",
            "      sexist       0.61      0.55      0.58       678\n",
            "\n",
            "    accuracy                           0.81      2814\n",
            "   macro avg       0.74      0.72      0.73      2814\n",
            "weighted avg       0.80      0.81      0.80      2814\n",
            "\n",
            "Confusion Matrix:\n",
            "[[1901  235]\n",
            " [ 306  372]]\n"
          ]
        }
      ]
    },
    {
      "cell_type": "code",
      "source": [
        "decision_tree_train(X_train_a, y_train_a, X_test_a, y_test_a, le)"
      ],
      "metadata": {
        "colab": {
          "base_uri": "https://localhost:8080/"
        },
        "id": "j3zQ1IJwUEYq",
        "outputId": "96bdd5d0-5c00-4830-e1c0-e5aa2011fa6a"
      },
      "execution_count": 93,
      "outputs": [
        {
          "output_type": "stream",
          "name": "stdout",
          "text": [
            "\n",
            "=== decision tree ===\n",
            "\n",
            "Classification Report:\n",
            "              precision    recall  f1-score   support\n",
            "\n",
            "  not sexist       0.85      0.88      0.86      2136\n",
            "      sexist       0.57      0.50      0.53       678\n",
            "\n",
            "    accuracy                           0.79      2814\n",
            "   macro avg       0.71      0.69      0.70      2814\n",
            "weighted avg       0.78      0.79      0.78      2814\n",
            "\n",
            "Confusion Matrix:\n",
            "[[1882  254]\n",
            " [ 338  340]]\n"
          ]
        }
      ]
    },
    {
      "cell_type": "code",
      "source": [
        "## Running Task B (Multi-class) "
      ],
      "metadata": {
        "id": "_G1z6-RfBTAc"
      },
      "execution_count": 94,
      "outputs": []
    },
    {
      "cell_type": "code",
      "source": [
        "le = LabelEncoder()\n",
        "\n",
        "le.fit(y_train_b)\n",
        "y_train_b = le.transform(y_train_b)"
      ],
      "metadata": {
        "id": "Ly-60LnUBhUE"
      },
      "execution_count": 95,
      "outputs": []
    },
    {
      "cell_type": "code",
      "source": [
        "naive_bayes(X_train_b, y_train_b, X_test_b, y_test_b, le)"
      ],
      "metadata": {
        "colab": {
          "base_uri": "https://localhost:8080/"
        },
        "id": "NZpmNJOtOiUh",
        "outputId": "922457b2-7323-4d9d-b738-35424da356ae"
      },
      "execution_count": 96,
      "outputs": [
        {
          "output_type": "stream",
          "name": "stdout",
          "text": [
            "\n",
            "=== naive bayes ===\n",
            "\n",
            "Classification Report:\n",
            "                                          precision    recall  f1-score   support\n",
            "\n",
            "1. threats, plans to harm and incitement       1.00      0.00      0.00        53\n",
            "                           2. derogation       0.55      0.11      0.19       316\n",
            "                            3. animosity       0.33      0.02      0.04       238\n",
            "               4. prejudiced discussions       1.00      0.00      0.00        66\n",
            "                                    none       0.78      0.99      0.87      2141\n",
            "\n",
            "                                accuracy                           0.77      2814\n",
            "                               macro avg       0.73      0.23      0.22      2814\n",
            "                            weighted avg       0.72      0.77      0.69      2814\n",
            "\n",
            "Confusion Matrix:\n",
            "[[   0    0    0    0   53]\n",
            " [   0   36    6    0  274]\n",
            " [   0   20    5    0  213]\n",
            " [   0    0    0    0   66]\n",
            " [   0    9    4    0 2128]]\n"
          ]
        }
      ]
    },
    {
      "cell_type": "code",
      "source": [
        "majority_class(X_train_b, y_train_b, X_test_b, y_test_b, le)"
      ],
      "metadata": {
        "colab": {
          "base_uri": "https://localhost:8080/"
        },
        "id": "KQc2RRZUBjGO",
        "outputId": "8261626b-7209-4c7b-8472-2ec37eaa5266"
      },
      "execution_count": 97,
      "outputs": [
        {
          "output_type": "stream",
          "name": "stdout",
          "text": [
            "\n",
            "=== majority class ===\n",
            "\n",
            "Classification Report:\n",
            "                                          precision    recall  f1-score   support\n",
            "\n",
            "1. threats, plans to harm and incitement       0.00      0.00      0.00        53\n",
            "                           2. derogation       0.00      0.00      0.00       316\n",
            "                            3. animosity       0.00      0.00      0.00       238\n",
            "               4. prejudiced discussions       0.00      0.00      0.00        66\n",
            "                                    none       0.76      1.00      0.86      2141\n",
            "\n",
            "                                accuracy                           0.76      2814\n",
            "                               macro avg       0.15      0.20      0.17      2814\n",
            "                            weighted avg       0.58      0.76      0.66      2814\n",
            "\n",
            "Confusion Matrix:\n",
            "[[   0    0    0    0   53]\n",
            " [   0    0    0    0  316]\n",
            " [   0    0    0    0  238]\n",
            " [   0    0    0    0   66]\n",
            " [   0    0    0    0 2141]]\n"
          ]
        }
      ]
    },
    {
      "cell_type": "code",
      "source": [
        "svm_train(X_train_b, y_train_b, X_test_b, y_test_b, le)"
      ],
      "metadata": {
        "colab": {
          "base_uri": "https://localhost:8080/"
        },
        "id": "3C187KanBkxl",
        "outputId": "efaf2040-fa1c-48d5-9462-5a6d10d0af88"
      },
      "execution_count": 98,
      "outputs": [
        {
          "output_type": "stream",
          "name": "stdout",
          "text": [
            "\n",
            "=== SVM ===\n",
            "\n",
            "Classification Report:\n",
            "                                          precision    recall  f1-score   support\n",
            "\n",
            "1. threats, plans to harm and incitement       0.14      0.15      0.15        53\n",
            "                           2. derogation       0.37      0.36      0.36       316\n",
            "                            3. animosity       0.37      0.25      0.30       238\n",
            "               4. prejudiced discussions       0.23      0.14      0.17        66\n",
            "                                    none       0.86      0.90      0.88      2141\n",
            "\n",
            "                                accuracy                           0.75      2814\n",
            "                               macro avg       0.39      0.36      0.37      2814\n",
            "                            weighted avg       0.73      0.75      0.74      2814\n",
            "\n",
            "Confusion Matrix:\n",
            "[[   8    5    5    1   34]\n",
            " [  10  114   39    8  145]\n",
            " [  11   70   60    5   92]\n",
            " [   0    4    6    9   47]\n",
            " [  27  116   52   16 1930]]\n"
          ]
        }
      ]
    },
    {
      "cell_type": "code",
      "source": [
        "decision_tree_train(X_train_b, y_train_b, X_test_b, y_test_b, le)"
      ],
      "metadata": {
        "colab": {
          "base_uri": "https://localhost:8080/"
        },
        "id": "K495-f81BoGl",
        "outputId": "052ba6cc-0bf2-4742-9ff2-2c350bb16634"
      },
      "execution_count": 99,
      "outputs": [
        {
          "output_type": "stream",
          "name": "stdout",
          "text": [
            "\n",
            "=== decision tree ===\n",
            "\n",
            "Classification Report:\n",
            "                                          precision    recall  f1-score   support\n",
            "\n",
            "1. threats, plans to harm and incitement       0.08      0.06      0.07        53\n",
            "                           2. derogation       0.35      0.29      0.32       316\n",
            "                            3. animosity       0.35      0.29      0.32       238\n",
            "               4. prejudiced discussions       0.17      0.11      0.13        66\n",
            "                                    none       0.85      0.91      0.88      2141\n",
            "\n",
            "                                accuracy                           0.75      2814\n",
            "                               macro avg       0.36      0.33      0.34      2814\n",
            "                            weighted avg       0.72      0.75      0.73      2814\n",
            "\n",
            "Confusion Matrix:\n",
            "[[   3   11    5    0   34]\n",
            " [   3   93   61    5  154]\n",
            " [   6   52   69    5  106]\n",
            " [   1    6    9    7   43]\n",
            " [  24  104   52   23 1938]]\n"
          ]
        }
      ]
    },
    {
      "cell_type": "code",
      "source": [],
      "metadata": {
        "id": "plyNMXQWBybp"
      },
      "execution_count": null,
      "outputs": []
    }
  ]
}