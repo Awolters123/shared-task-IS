{
  "cells": [
    {
      "cell_type": "markdown",
      "metadata": {
        "id": "YXHs3d7Cmkka"
      },
      "source": [
        "# Baseline testing"
      ]
    },
    {
      "cell_type": "code",
      "execution_count": null,
      "metadata": {
        "id": "A8PSLyzGAQff"
      },
      "outputs": [],
      "source": [
        "import matplotlib.pyplot as plt\n",
        "import numpy as np\n",
        "import pandas as pd\n",
        "from collections import Counter\n",
        "from sklearn.dummy import DummyClassifier\n",
        "from sklearn.feature_extraction.text import CountVectorizer, TfidfVectorizer\n",
        "from sklearn.linear_model import LogisticRegression\n",
        "from sklearn.metrics import classification_report, confusion_matrix, ConfusionMatrixDisplay\n",
        "from sklearn.model_selection import train_test_split\n",
        "from sklearn.naive_bayes import MultinomialNB\n",
        "from sklearn.preprocessing import LabelEncoder\n",
        "from sklearn.svm import SVC\n",
        "from sklearn.tree import DecisionTreeClassifier\n",
        "\n",
        "from sklearn.exceptions import ConvergenceWarning\n",
        "from sklearn.utils import _testing"
      ]
    },
    {
      "cell_type": "code",
      "execution_count": null,
      "metadata": {
        "id": "PNSx1iizATDn"
      },
      "outputs": [],
      "source": [
        "## Constant\n",
        "RANDOM_STATE = 0"
      ]
    },
    {
      "cell_type": "markdown",
      "metadata": {
        "id": "jOFfAC3VAU4-"
      },
      "source": [
        "## Data preparation"
      ]
    },
    {
      "cell_type": "code",
      "execution_count": null,
      "metadata": {
        "id": "ny5qEdvxmkkd"
      },
      "outputs": [],
      "source": [
        "## Read csv file\n",
        "df = pd.read_csv('train_all_tasks.csv')"
      ]
    },
    {
      "cell_type": "markdown",
      "metadata": {
        "id": "4QURIsrGmkkd"
      },
      "source": [
        "### train/dev/test split"
      ]
    },
    {
      "cell_type": "code",
      "execution_count": null,
      "metadata": {
        "id": "87SsCCWkAYKv"
      },
      "outputs": [],
      "source": [
        "# text and labels for task A\n",
        "X_train_a, X_test_a, y_train_a, y_test_a = train_test_split(df['text'], df['label_sexist'], test_size=0.3, random_state=RANDOM_STATE)\n",
        "X_test_a, X_dev_a, y_test_a, y_dev_a = train_test_split(X_test_a, y_test_a, test_size=0.33, random_state=RANDOM_STATE)\n",
        "\n",
        "# text and labels for task B\n",
        "X_train_b, X_test_b, y_train_b, y_test_b = train_test_split(df[df['label_sexist'] == 'sexist']['text'],\n",
        "                                                               df[df['label_sexist'] == 'sexist']['label_category'],\n",
        "                                                               test_size=0.3,\n",
        "                                                               random_state=RANDOM_STATE)\n",
        "X_test_b, X_dev_b, y_test_b, y_dev_b = train_test_split(X_test_b, y_test_b, test_size=0.33, random_state=RANDOM_STATE)"
      ]
    },
    {
      "cell_type": "code",
      "execution_count": null,
      "metadata": {
        "colab": {
          "base_uri": "https://localhost:8080/"
        },
        "id": "bZPIX7aSArvD",
        "outputId": "b883b633-62eb-4030-bac5-2e2e0ed78178"
      },
      "outputs": [
        {
          "name": "stdout",
          "output_type": "stream",
          "text": [
            "Counter({'not sexist': 7413, 'sexist': 2387})\n",
            "Counter({'not sexist': 1058, 'sexist': 328})\n",
            "Counter({'not sexist': 2131, 'sexist': 683})\n",
            "\n",
            "Counter({'2. derogation': 1107, '3. animosity': 812, '1. threats, plans to harm and incitement': 231, '4. prejudiced discussions': 228})\n",
            "Counter({'2. derogation': 157, '3. animosity': 115, '4. prejudiced discussions': 37, '1. threats, plans to harm and incitement': 28})\n",
            "Counter({'2. derogation': 326, '3. animosity': 238, '4. prejudiced discussions': 68, '1. threats, plans to harm and incitement': 51})\n"
          ]
        }
      ],
      "source": [
        "## Printing the label distribution for Task A and B\n",
        "print(Counter(y_train_a))\n",
        "print(Counter(y_dev_a))\n",
        "print(Counter(y_test_a))\n",
        "print(\"\")\n",
        "print(Counter(y_train_b))\n",
        "print(Counter(y_dev_b))\n",
        "print(Counter(y_test_b))"
      ]
    },
    {
      "cell_type": "markdown",
      "metadata": {
        "id": "Cqrllxj1mkke"
      },
      "source": [
        "### Output formatting"
      ]
    },
    {
      "cell_type": "code",
      "execution_count": null,
      "metadata": {
        "id": "hmlbos8FfkQE"
      },
      "outputs": [],
      "source": [
        "def confmatrix_display(confmatrix, model_name, task_name):\n",
        "    \"\"\"This function takes an sklearn confusion matrix to generate a graphical plot, which is\n",
        "    customized to fit the current task.\"\"\"\n",
        "    plt.rcParams.update({'font.size': 12})\n",
        "    plt.figure(dpi=1200)\n",
        "\n",
        "    if task_name == 'taskA':\n",
        "        labels = df['label_sexist'].unique() \n",
        "    else:\n",
        "        labels = df[df['label_sexist'] == 'sexist']['label_category'].sort_values().unique()\n",
        "        labels[0] = '1. threats...'\n",
        "\n",
        "    cm_display = ConfusionMatrixDisplay(confmatrix, display_labels=labels).plot()\n",
        "    # cm_display = ConfusionMatrixDisplay(confmatrix).plot()\n",
        "    \n",
        "    if task_name != 'taskA':\n",
        "        plt.xticks(rotation=45, ha='right')"
      ]
    },
    {
      "cell_type": "code",
      "execution_count": null,
      "metadata": {
        "id": "plJWYLU5AuIU"
      },
      "outputs": [],
      "source": [
        "def report(model_name, ydev, pred, task_name, zero_division=1):\n",
        "    \"\"\"This function takes the model name, prediction, and gold standard, \n",
        "    and prints a formatted report and confusion matrix based on this data.\"\"\"\n",
        "    conf_matrix = confusion_matrix(ydev, pred)\n",
        "    print(\"\\n=== {0} ===\\n\\nClassification Report:\\n{1}\"\n",
        "          \"\\nConfusion Matrix:\\n{2}\".format(model_name,\n",
        "                                            classification_report(ydev, pred, \n",
        "                                                                  zero_division=zero_division),\n",
        "                                            confusion_matrix(ydev, pred)))\n",
        "\n",
        "    confmatrix_display(conf_matrix, model_name, task_name)"
      ]
    },
    {
      "cell_type": "markdown",
      "metadata": {
        "id": "LfQd1lY-mkkf"
      },
      "source": [
        "### Model setup"
      ]
    },
    {
      "cell_type": "code",
      "execution_count": null,
      "metadata": {
        "id": "LlZl2CZjhQ-R"
      },
      "outputs": [],
      "source": [
        "@_testing.ignore_warnings(category=ConvergenceWarning)\n",
        "def logistic_regression(xtrain, ytrain, xdev, ydev, le, task_name):\n",
        "  \"\"\"This function trains a Logistic Regression model and predicts the labels on a test set, \n",
        "  which it prints the classification report and confusion matrix for by calling the report function.\"\"\"\n",
        "  model_name = \"logistic regression\"\n",
        "  model = LogisticRegression(random_state=RANDOM_STATE)\n",
        "  vec = CountVectorizer()\n",
        "\n",
        "  vec.fit(xtrain, xdev)\n",
        "  xtrain_enc = vec.transform(xtrain)\n",
        "  xdev_enc = vec.transform(xdev)\n",
        "\n",
        "  model.fit(xtrain_enc, ytrain)\n",
        "  pred = model.predict(xdev_enc)\n",
        "  pred = le.inverse_transform(pred)\n",
        "\n",
        "  report(model_name, ydev, pred, task_name)"
      ]
    },
    {
      "cell_type": "markdown",
      "metadata": {
        "id": "jQBU4QCUBG1M"
      },
      "source": [
        "## Task A (Binary) - Logistic regression"
      ]
    },
    {
      "cell_type": "code",
      "execution_count": null,
      "metadata": {
        "id": "Qo85JFqyBI7f"
      },
      "outputs": [],
      "source": [
        "task_name = 'taskA'\n",
        "le = LabelEncoder()\n",
        "\n",
        "le.fit(y_train_a)\n",
        "y_train_a = le.transform(y_train_a)"
      ]
    },
    {
      "cell_type": "code",
      "execution_count": null,
      "metadata": {
        "colab": {
          "base_uri": "https://localhost:8080/",
          "height": 721
        },
        "id": "6jyTG9KMiUK9",
        "outputId": "7ddac3dd-b163-4064-dbd1-407803b8b49a"
      },
      "outputs": [
        {
          "name": "stdout",
          "output_type": "stream",
          "text": [
            "\n",
            "=== logistic regression ===\n",
            "\n",
            "Classification Report:\n",
            "              precision    recall  f1-score   support\n",
            "\n",
            "  not sexist       0.85      0.94      0.89      2131\n",
            "      sexist       0.72      0.48      0.58       683\n",
            "\n",
            "    accuracy                           0.83      2814\n",
            "   macro avg       0.78      0.71      0.74      2814\n",
            "weighted avg       0.82      0.83      0.82      2814\n",
            "\n",
            "Confusion Matrix:\n",
            "[[2001  130]\n",
            " [ 352  331]]\n"
          ]
        },
        {
          "data": {
            "text/plain": [
              "<Figure size 7200x4800 with 0 Axes>"
            ]
          },
          "metadata": {},
          "output_type": "display_data"
        },
        {
          "data": {
            "image/png": "[encoded data removed]",
            "text/plain": [
              "<Figure size 432x288 with 2 Axes>"
            ]
          },
          "metadata": {
            "needs_background": "light"
          },
          "output_type": "display_data"
        }
      ],
      "source": [
        "logistic_regression(X_train_a, y_train_a, X_test_a, y_test_a, le, task_name)"
      ]
    },
    {
      "cell_type": "markdown",
      "metadata": {
        "id": "DJipP65OfkQK"
      },
      "source": [
        "## Task B (Multi-class) - Logistic regression"
      ]
    },
    {
      "cell_type": "code",
      "execution_count": null,
      "metadata": {
        "id": "5tjJTOMnfkQK"
      },
      "outputs": [],
      "source": [
        "task_name = 'taskB'\n",
        "\n",
        "le.fit(y_train_b)\n",
        "y_train_b = le.transform(y_train_b)"
      ]
    },
    {
      "cell_type": "code",
      "execution_count": null,
      "metadata": {
        "colab": {
          "base_uri": "https://localhost:8080/",
          "height": 891
        },
        "id": "Q3cV2ltmjYXD",
        "outputId": "2d5a1fce-8f13-4b09-f103-9bdde6e2b256"
      },
      "outputs": [
        {
          "name": "stdout",
          "output_type": "stream",
          "text": [
            "\n",
            "=== logistic regression ===\n",
            "\n",
            "Classification Report:\n",
            "                                          precision    recall  f1-score   support\n",
            "\n",
            "1. threats, plans to harm and incitement       0.52      0.43      0.47        51\n",
            "                           2. derogation       0.57      0.64      0.60       326\n",
            "                            3. animosity       0.46      0.46      0.46       238\n",
            "               4. prejudiced discussions       0.32      0.18      0.23        68\n",
            "\n",
            "                                accuracy                           0.52       683\n",
            "                               macro avg       0.47      0.43      0.44       683\n",
            "                            weighted avg       0.50      0.52      0.51       683\n",
            "\n",
            "Confusion Matrix:\n",
            "[[ 22   9  15   5]\n",
            " [ 12 208  97   9]\n",
            " [  5 111 110  12]\n",
            " [  3  37  16  12]]\n"
          ]
        },
        {
          "data": {
            "text/plain": [
              "<Figure size 7200x4800 with 0 Axes>"
            ]
          },
          "metadata": {},
          "output_type": "display_data"
        },
        {
          "data": {
            "image/png": "[encoded data removed]",
            "text/plain": [
              "<Figure size 432x288 with 2 Axes>"
            ]
          },
          "metadata": {
            "needs_background": "light"
          },
          "output_type": "display_data"
        }
      ],
      "source": [
        "logistic_regression(X_train_b, y_train_b, X_test_b, y_test_b, le, task_name)"
      ]
    }
  ],
  "metadata": {
    "colab": {
      "collapsed_sections": [],
      "provenance": []
    },
    "kernelspec": {
      "display_name": "Python 3.10.4 ('lfd')",
      "language": "python",
      "name": "python3"
    },
    "language_info": {
      "codemirror_mode": {
        "name": "ipython",
        "version": 3
      },
      "file_extension": ".py",
      "mimetype": "text/x-python",
      "name": "python",
      "nbconvert_exporter": "python",
      "pygments_lexer": "ipython3",
      "version": "3.10.4"
    },
    "vscode": {
      "interpreter": {
        "hash": "86d0237a3a54a747ea5eeadf5a7aab3e7ee246c76033eca4ace7d99a07ef554b"
      }
    }
  },
  "nbformat": 4,
  "nbformat_minor": 0
}
