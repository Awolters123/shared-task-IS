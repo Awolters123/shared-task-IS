{
 "cells": [
  {
   "cell_type": "markdown",
   "metadata": {},
   "source": [
    "# DeBERTaV3 - Task A"
   ]
  },
  {
   "cell_type": "markdown",
   "metadata": {},
   "source": [
    "## Instructions"
   ]
  },
  {
   "cell_type": "markdown",
   "metadata": {
    "tags": [
     "parameters"
    ]
   },
   "source": [
    "The function of this notebook is to act like a frontend to the code for model testing.\n",
    "In practice, this means each new code cell is meant to represent one test, where the parameters of the model are used, and the output of the test can be stored.\n",
    "\n",
    "Example:\n",
    "```\n",
    "!python program_name.py \\\n",
    "--learning_rate \\\n",
    "--batch_size \\\n",
    "etc.\n",
    "```\n",
    "\n",
    "After the tests you want to run are finished, the notebook can be pushed to the repository for storage of the parameters and full output.\n",
    "\n",
    "**Important:**\n",
    "- If major changes have been made to the code before new tests, add this into a markdown cell before any new tests.\n",
    "- Always make sure to pull the latest changes before running new tests."
   ]
  },
  {
   "cell_type": "markdown",
   "metadata": {},
   "source": [
    "## Testing"
   ]
  },
  {
   "cell_type": "markdown",
   "metadata": {},
   "source": [
    "**model** [*microsoft/deberta-v3-base*](https://huggingface.co/microsoft/deberta-v3-base)"
   ]
  },
  {
   "cell_type": "code",
   "execution_count": null,
   "metadata": {},
   "outputs": [],
   "source": []
  }
 ],
 "metadata": {
  "kernelspec": {
   "display_name": "Python 3.10.4 ('lfd')",
   "language": "python",
   "name": "python3"
  },
  "language_info": {
   "codemirror_mode": {
    "name": "ipython",
    "version": 3
   },
   "file_extension": ".py",
   "mimetype": "text/x-python",
   "name": "python",
   "nbconvert_exporter": "python",
   "pygments_lexer": "ipython3",
   "version": "3.10.4"
  },
  "orig_nbformat": 4,
  "vscode": {
   "interpreter": {
    "hash": "86d0237a3a54a747ea5eeadf5a7aab3e7ee246c76033eca4ace7d99a07ef554b"
   }
  }
 },
 "nbformat": 4,
 "nbformat_minor": 2
}
