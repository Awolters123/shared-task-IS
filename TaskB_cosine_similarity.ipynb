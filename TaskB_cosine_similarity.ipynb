{
  "nbformat": 4,
  "nbformat_minor": 0,
  "metadata": {
    "colab": {
      "provenance": []
    },
    "kernelspec": {
      "name": "python3",
      "display_name": "Python 3"
    },
    "language_info": {
      "name": "python"
    }
  },
  "cells": [
    {
      "cell_type": "code",
      "execution_count": 15,
      "metadata": {
        "id": "sNbAvibeqIbj"
      },
      "outputs": [],
      "source": [
        "import pandas as pd\n",
        "from collections import Counter\n",
        "from scipy.spatial.distance import cosine\n",
        "import math\n",
        "import re"
      ]
    },
    {
      "cell_type": "code",
      "source": [
        "Codalab = pd.read_csv('train_all_tasks.csv')\n",
        "Exist2021 = pd.read_csv('EXIST2021_merged.csv')"
      ],
      "metadata": {
        "id": "-rNUYWd8qMS4"
      },
      "execution_count": 29,
      "outputs": []
    },
    {
      "cell_type": "code",
      "source": [
        "data1 = Codalab.loc[Codalab['label_sexist'] == 'sexist']\n",
        "data2 = Exist2021.loc[Exist2021['sexist'] == 1]\n",
        "data2_nonsexist = Exist2021.loc[Exist2021['sexist'] == 0]"
      ],
      "metadata": {
        "id": "qCaMkV4hqj0Z"
      },
      "execution_count": 30,
      "outputs": []
    },
    {
      "cell_type": "code",
      "source": [
        "d1_text = []\n",
        "for n1 in data1['text']:\n",
        "  res1 = re.findall( r'\\w+|[^\\s\\w]+', n1)\n",
        "  d1_text.append(res1)\n",
        "\n",
        "d2_text = []\n",
        "for n2 in data2['text']:\n",
        "  res2 = re.findall( r'\\w+|[^\\s\\w]+', n2)\n",
        "  d2_text.append(res2)"
      ],
      "metadata": {
        "id": "GgKmey3N_Qol"
      },
      "execution_count": 31,
      "outputs": []
    },
    {
      "cell_type": "code",
      "source": [
        "print(len(d1_text))\n",
        "print(len(d2_text))"
      ],
      "metadata": {
        "colab": {
          "base_uri": "https://localhost:8080/"
        },
        "id": "oSyQPw0Gx6wv",
        "outputId": "b9f5043c-3226-41b2-9b66-fb0a5228d4cf"
      },
      "execution_count": 32,
      "outputs": [
        {
          "output_type": "stream",
          "name": "stdout",
          "text": [
            "3398\n",
            "2794\n"
          ]
        }
      ]
    },
    {
      "cell_type": "code",
      "source": [
        "def cosine_dic(dic1, dic2, label_cat):\n",
        "    numerator = 0\n",
        "    dena = 0\n",
        "    for key1,val1 in dic1.items():\n",
        "        numerator += val1*dic2.get(key1,0.0)\n",
        "        dena += val1*val1\n",
        "    denb = 0\n",
        "    for val2 in dic2.values():\n",
        "        denb += val2*val2\n",
        "    return numerator/math.sqrt(dena*denb), label_cat"
      ],
      "metadata": {
        "id": "XczpNsstxcvy"
      },
      "execution_count": 33,
      "outputs": []
    },
    {
      "cell_type": "code",
      "source": [
        "def best_score(scores, sent):\n",
        "  for score, label in sorted(zip(scores, sent), reverse=True)[:1]:\n",
        "    return label"
      ],
      "metadata": {
        "id": "b-7KDPvUjHwt"
      },
      "execution_count": 40,
      "outputs": []
    },
    {
      "cell_type": "code",
      "source": [
        "cos_scores = []\n",
        "cos_sent = []\n",
        "Exist2021_label_categories = []\n",
        "for n in d2_text:\n",
        "  for n1, s1 in zip(d1_text, data1['label_category']):\n",
        "    cs, lc = cosine_dic(Counter(n), Counter(n1), s1)\n",
        "    cos_scores.append(cs)\n",
        "    cos_sent.append(lc)\n",
        "\n",
        "  Exist2021_label_categories.append(best_score(cos_scores, cos_sent))\n",
        "  cos_scores = []\n",
        "  cos_sent = []"
      ],
      "metadata": {
        "id": "vj2Kw95wbyGw"
      },
      "execution_count": null,
      "outputs": []
    },
    {
      "cell_type": "code",
      "source": [
        "for x, y in zip(Exist2021_label_categories, d2_text):\n",
        "  print(x, ' '.join(y))"
      ],
      "metadata": {
        "id": "3pKBXh5ZcLeV"
      },
      "execution_count": null,
      "outputs": []
    },
    {
      "cell_type": "code",
      "source": [
        "data2['label_category'] = Exist2021_label_categories\n",
        "data2_nonsexist['label_category'] = 'none'"
      ],
      "metadata": {
        "id": "zYqmaGf_kTju"
      },
      "execution_count": null,
      "outputs": []
    },
    {
      "cell_type": "code",
      "source": [
        "Exist2021_taskB = pd.concat([data2, data2_nonsexist], axis=0)\n",
        "Exist2021_taskB = Exist2021_taskB.sample(frac=1)"
      ],
      "metadata": {
        "id": "ZXzH4LhwBR69"
      },
      "execution_count": 43,
      "outputs": []
    },
    {
      "cell_type": "code",
      "source": [
        "Codalab['label_category'].value_counts()"
      ],
      "metadata": {
        "colab": {
          "base_uri": "https://localhost:8080/"
        },
        "id": "DUXFpdb-AkLy",
        "outputId": "e486be86-5ad9-4823-b3ed-88bc777e5dd0"
      },
      "execution_count": 46,
      "outputs": [
        {
          "output_type": "execute_result",
          "data": {
            "text/plain": [
              "none                                        10602\n",
              "2. derogation                                1590\n",
              "3. animosity                                 1165\n",
              "4. prejudiced discussions                     333\n",
              "1. threats, plans to harm and incitement      310\n",
              "Name: label_category, dtype: int64"
            ]
          },
          "metadata": {},
          "execution_count": 46
        }
      ]
    },
    {
      "cell_type": "code",
      "source": [
        "Exist2021_taskB['label_category'].value_counts()"
      ],
      "metadata": {
        "colab": {
          "base_uri": "https://localhost:8080/"
        },
        "id": "Il3ovDKhApbL",
        "outputId": "ac01171c-7a07-478a-dac5-b2bca3215709"
      },
      "execution_count": 47,
      "outputs": [
        {
          "output_type": "execute_result",
          "data": {
            "text/plain": [
              "none                                        2850\n",
              "2. derogation                               1235\n",
              "3. animosity                                 974\n",
              "4. prejudiced discussions                    319\n",
              "1. threats, plans to harm and incitement     266\n",
              "Name: label_category, dtype: int64"
            ]
          },
          "metadata": {},
          "execution_count": 47
        }
      ]
    },
    {
      "cell_type": "code",
      "source": [
        "Exist2021_taskB.to_csv('Exist2021_taskB.csv', index=False, header=True)"
      ],
      "metadata": {
        "id": "0OZTCnQYCZlG"
      },
      "execution_count": 48,
      "outputs": []
    }
  ]
}