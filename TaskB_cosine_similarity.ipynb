{
 "cells": [
  {
   "cell_type": "code",
   "execution_count": 159,
   "metadata": {
    "id": "sNbAvibeqIbj"
   },
   "outputs": [],
   "source": [
    "import pandas as pd\n",
    "from collections import Counter\n",
    "from scipy import spatial\n",
    "import math\n",
    "import re"
   ]
  },
  {
   "cell_type": "code",
   "execution_count": 160,
   "metadata": {
    "id": "-rNUYWd8qMS4"
   },
   "outputs": [],
   "source": [
    "Codalab = pd.read_csv('train_all_tasks.csv')\n",
    "Exist2021 = pd.read_csv('EXIST2021_merged.csv')"
   ]
  },
  {
   "cell_type": "code",
   "execution_count": 161,
   "metadata": {
    "id": "qCaMkV4hqj0Z"
   },
   "outputs": [],
   "source": [
    "data1 = Codalab.loc[Codalab['label_sexist'] == 'sexist']\n",
    "data2 = Exist2021.loc[Exist2021['sexist'] == 1]\n",
    "data2_nonsexist = Exist2021.loc[Exist2021['sexist'] == 0]"
   ]
  },
  {
   "cell_type": "code",
   "execution_count": 165,
   "metadata": {
    "id": "GgKmey3N_Qol"
   },
   "outputs": [],
   "source": [
    "d1_text = []\n",
    "for n1 in data1['text']:\n",
    "  res1 = re.findall( r'\\w+|[^\\s\\w]+', n1)\n",
    "  d1_text.append(res1)\n",
    "\n",
    "d2_text = []\n",
    "for n2 in data2['text']:\n",
    "  res2 = re.findall( r'\\w+|[^\\s\\w]+', n2)\n",
    "  d2_text.append(res2)"
   ]
  },
  {
   "cell_type": "code",
   "execution_count": 191,
   "metadata": {
    "id": "-KXAXh1KGqwe"
   },
   "outputs": [],
   "source": [
    "def cosine_sim(t1, t2, label_cat):\n",
    "  wordlist = list(t1.keys() | t2.keys())\n",
    "  t1_vec = []\n",
    "  t2_vec = []\n",
    "  for word in wordlist:\n",
    "    t1_vec.append(t1.get(word, 0)) \n",
    "    t2_vec.append(t2.get(word, 0))    \n",
    "  return 1 - spatial.distance.cosine(t1_vec, t2_vec), label_cat"
   ]
  },
  {
   "cell_type": "code",
   "execution_count": 192,
   "metadata": {
    "colab": {
     "base_uri": "https://localhost:8080/"
    },
    "id": "oSyQPw0Gx6wv",
    "outputId": "d148baad-d9fe-4623-8a1e-d837a8d9da71"
   },
   "outputs": [
    {
     "name": "stdout",
     "output_type": "stream",
     "text": [
      "3398\n",
      "2794\n"
     ]
    }
   ],
   "source": [
    "print(len(d1_text))\n",
    "print(len(d2_text))"
   ]
  },
  {
   "cell_type": "code",
   "execution_count": 200,
   "metadata": {
    "id": "b-7KDPvUjHwt"
   },
   "outputs": [],
   "source": [
    "def best_score(scores, sent):\n",
    "  for score, label in sorted(zip(scores, sent), reverse=True)[:1]:\n",
    "    return label"
   ]
  },
  {
   "cell_type": "code",
   "execution_count": 201,
   "metadata": {
    "id": "vj2Kw95wbyGw"
   },
   "outputs": [],
   "source": [
    "cos_scores = []\n",
    "cos_sent = []\n",
    "Exist2021_label_categories = []\n",
    "for n in d2_text:\n",
    "  for n1, s1 in zip(d1_text, data1['label_category']):\n",
    "    cs, lc = cosine_sim(Counter(n), Counter(n1), s1)\n",
    "    cos_scores.append(cs)\n",
    "    cos_sent.append(lc)\n",
    "\n",
    "  Exist2021_label_categories.append(best_score(cos_scores, cos_sent))\n",
    "  cos_scores = []\n",
    "  cos_sent = []"
   ]
  },
  {
   "cell_type": "code",
   "execution_count": null,
   "metadata": {
    "id": "3pKBXh5ZcLeV"
   },
   "outputs": [],
   "source": [
    "for x, y in zip(Exist2021_label_categories, d2_text):\n",
    "  print(x, ' '.join(y))"
   ]
  },
  {
   "cell_type": "code",
   "execution_count": null,
   "metadata": {
    "id": "zYqmaGf_kTju"
   },
   "outputs": [],
   "source": [
    "data2['label_category'] = Exist2021_label_categories\n",
    "data2_nonsexist['label_category'] = 'none'"
   ]
  },
  {
   "cell_type": "code",
   "execution_count": 214,
   "metadata": {
    "id": "ZXzH4LhwBR69"
   },
   "outputs": [],
   "source": [
    "Exist2021_taskB = pd.concat([data2, data2_nonsexist], axis=0)\n",
    "Exist2021_taskB = Exist2021_taskB.sample(frac=1, random_state=1234)"
   ]
  },
  {
   "cell_type": "code",
   "execution_count": 215,
   "metadata": {
    "colab": {
     "base_uri": "https://localhost:8080/"
    },
    "id": "DUXFpdb-AkLy",
    "outputId": "8614a742-8c0a-45c1-ea2d-a9440a755514"
   },
   "outputs": [
    {
     "data": {
      "text/plain": [
       "none                                        10602\n",
       "2. derogation                                1590\n",
       "3. animosity                                 1165\n",
       "4. prejudiced discussions                     333\n",
       "1. threats, plans to harm and incitement      310\n",
       "Name: label_category, dtype: int64"
      ]
     },
     "execution_count": 215,
     "metadata": {},
     "output_type": "execute_result"
    }
   ],
   "source": [
    "Codalab['label_category'].value_counts()"
   ]
  },
  {
   "cell_type": "code",
   "execution_count": 216,
   "metadata": {
    "colab": {
     "base_uri": "https://localhost:8080/"
    },
    "id": "Il3ovDKhApbL",
    "outputId": "daceb7a6-4a9a-4ae9-eb46-fe5501cd50bd"
   },
   "outputs": [
    {
     "data": {
      "text/plain": [
       "none                                        2850\n",
       "2. derogation                               1237\n",
       "3. animosity                                 972\n",
       "4. prejudiced discussions                    319\n",
       "1. threats, plans to harm and incitement     266\n",
       "Name: label_category, dtype: int64"
      ]
     },
     "execution_count": 216,
     "metadata": {},
     "output_type": "execute_result"
    }
   ],
   "source": [
    "Exist2021_taskB['label_category'].value_counts()"
   ]
  },
  {
   "cell_type": "code",
   "execution_count": 217,
   "metadata": {
    "id": "0OZTCnQYCZlG"
   },
   "outputs": [],
   "source": [
    "Exist2021_taskB.to_csv('Exist2021_taskB.csv', index=False, header=True)"
   ]
  }
 ],
 "metadata": {
  "colab": {
   "provenance": []
  },
  "kernelspec": {
   "display_name": "Python 3 (ipykernel)",
   "language": "python",
   "name": "python3"
  },
  "language_info": {
   "codemirror_mode": {
    "name": "ipython",
    "version": 3
   },
   "file_extension": ".py",
   "mimetype": "text/x-python",
   "name": "python",
   "nbconvert_exporter": "python",
   "pygments_lexer": "ipython3",
   "version": "3.10.7"
  }
 },
 "nbformat": 4,
 "nbformat_minor": 1
}
